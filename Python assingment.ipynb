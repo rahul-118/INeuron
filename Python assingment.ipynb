{
 "cells": [
  {
   "cell_type": "markdown",
   "id": "ec71afd4",
   "metadata": {},
   "source": [
    "#### 1. Write a Python program to check if a given string is an anagram."
   ]
  },
  {
   "cell_type": "code",
   "execution_count": null,
   "id": "31a29481",
   "metadata": {},
   "outputs": [],
   "source": [
    "# def is_anagram(str1, str2):\n",
    "    # Convert the strings to lowercase and remove any whitespace\n",
    "    str1 = string1.lower().replace(\" \", \"\")\n",
    "    str2 = string2.lower().replace(\" \", \"\")\n",
    "\n",
    "    # Check if the lengths of the strings are different\n",
    "    if len(str1) != len(str2):\n",
    "        return False\n",
    "    # checking if the sorted format of both strings match if it matches these are anagrams\n",
    "    if(sorted(str1)== sorted(str2)):\n",
    "        return True\n",
    "    else:\n",
    "        return False\n",
    "\n",
    "# Main function\n",
    "str1 = input(\"Enter the first string: \")\n",
    "str2 = input(\"Enter the second string: \")\n",
    "\n",
    "if is_anagram(str1, str2):\n",
    "    print(\"The strings are anagrams.\")\n",
    "else:\n",
    "    print(\"The strings are not anagrams.\")"
   ]
  },
  {
   "cell_type": "markdown",
   "id": "802158d3",
   "metadata": {},
   "source": [
    "#### 2. Write a Python program to find the maximum and minimum values in a dictionary."
   ]
  },
  {
   "cell_type": "code",
   "execution_count": 9,
   "id": "d2fc2731",
   "metadata": {},
   "outputs": [
    {
     "name": "stdout",
     "output_type": "stream",
     "text": [
      "Maximum value: 20\n",
      "Minimum value: 5\n"
     ]
    }
   ],
   "source": [
    "def max_min_values(dict):\n",
    "    if len(dict) == 0:\n",
    "        print(\"The dictionary is empty.\")\n",
    "        return None\n",
    "\n",
    "    values = list(dictionary.values())\n",
    "    max_value = max(values)\n",
    "    min_value = min(values)\n",
    "\n",
    "    return max_value, min_value\n",
    "\n",
    "\n",
    "# Main function\n",
    "dictionary = {\"a\": 10, \"b\": 5, \"c\": 20, \"d\": 15}\n",
    "\n",
    "result = max_min_values(dictionary)\n",
    "\n",
    "if result:\n",
    "    max_value, min_value = result\n",
    "    print(\"Maximum value:\", max_value)\n",
    "    print(\"Minimum value:\", min_value)"
   ]
  },
  {
   "cell_type": "markdown",
   "id": "fff705a5",
   "metadata": {},
   "source": [
    "#### 3. Write a Python program to find the average of a list of numbers."
   ]
  },
  {
   "cell_type": "code",
   "execution_count": 10,
   "id": "c1aa6cf6",
   "metadata": {},
   "outputs": [
    {
     "name": "stdout",
     "output_type": "stream",
     "text": [
      "Average of list:  3.5\n"
     ]
    }
   ],
   "source": [
    "def average(list):\n",
    "    avg = sum(list)/len(list)\n",
    "    return avg\n",
    "\n",
    "# Main Function\n",
    "list = [1,2,3,4,5,6]\n",
    "print(\"Average of list: \",average(list))"
   ]
  },
  {
   "cell_type": "markdown",
   "id": "cce44272",
   "metadata": {},
   "source": [
    "#### 4. Write a Python program to remove all vowels from a string."
   ]
  },
  {
   "cell_type": "code",
   "execution_count": 11,
   "id": "24cccdaa",
   "metadata": {},
   "outputs": [
    {
     "name": "stdout",
     "output_type": "stream",
     "text": [
      "Enter a string : rahul\n",
      "String wihtout vowels:  rhl\n"
     ]
    }
   ],
   "source": [
    "def remove_vowels(str):\n",
    "    vowels = [\"a\",\"e\",\"i\",\"o\",\"u\"]\n",
    "    for char in str:\n",
    "        if (char in vowels):\n",
    "            str = str.replace(char,\"\")\n",
    "    return str\n",
    "\n",
    "# Main Function\n",
    "str = input(\"Enter a string : \")\n",
    "print(\"String wihtout vowels: \",remove_vowels(str))"
   ]
  },
  {
   "cell_type": "markdown",
   "id": "3dff6eb4",
   "metadata": {},
   "source": [
    "#### 5. Write a Python function to calculate the factorial of a number using recursion."
   ]
  },
  {
   "cell_type": "code",
   "execution_count": 17,
   "id": "929651d1",
   "metadata": {},
   "outputs": [
    {
     "name": "stdout",
     "output_type": "stream",
     "text": [
      "Enter a number: 5\n",
      "Factorial of 5 is : 120\n"
     ]
    }
   ],
   "source": [
    "def factorial(n):\n",
    "    if n==0 or n==1:\n",
    "        return 1\n",
    "    else:\n",
    "        return n*factorial(n-1)\n",
    "\n",
    "# Main Function\n",
    "n = input(\"Enter a number: \")\n",
    "result = factorial(int(n))\n",
    "print(\"Factorial of \"+ n +\" is :\",result)"
   ]
  },
  {
   "cell_type": "markdown",
   "id": "2d63a68f",
   "metadata": {},
   "source": [
    "#### 6. Write a Python program to merge two unsorted lists into a single sorted list using the merge sort algorithm."
   ]
  },
  {
   "cell_type": "code",
   "execution_count": 18,
   "id": "ead4b9dd",
   "metadata": {},
   "outputs": [
    {
     "name": "stdout",
     "output_type": "stream",
     "text": [
      "Merged and sorted list: [0, 1, 2, 3, 4, 5, 6, 7, 8, 9]\n"
     ]
    }
   ],
   "source": [
    "def merge_sort_merge(left, right):\n",
    "    merged_list = []\n",
    "    left_index = right_index = 0\n",
    "\n",
    "    while left_index < len(left) and right_index < len(right):\n",
    "        if left[left_index] < right[right_index]:\n",
    "            merged_list.append(left[left_index])\n",
    "            left_index += 1\n",
    "        else:\n",
    "            merged_list.append(right[right_index])\n",
    "            right_index += 1\n",
    "\n",
    "    # Append remaining elements from the left list\n",
    "    while left_index < len(left):\n",
    "        merged_list.append(left[left_index])\n",
    "        left_index += 1\n",
    "\n",
    "    # Append remaining elements from the right list\n",
    "    while right_index < len(right):\n",
    "        merged_list.append(right[right_index])\n",
    "        right_index += 1\n",
    "\n",
    "    return merged_list\n",
    "\n",
    "\n",
    "def merge_sort(lst):\n",
    "    if len(lst) <= 1:\n",
    "        return lst\n",
    "\n",
    "    mid = len(lst) // 2\n",
    "    left = lst[:mid]\n",
    "    right = lst[mid:]\n",
    "\n",
    "    left = merge_sort(left)\n",
    "    right = merge_sort(right)\n",
    "\n",
    "    return merge_sort_merge(left, right)\n",
    "\n",
    "\n",
    "# Test the program\n",
    "list1 = [5, 9, 2, 1, 6]\n",
    "list2 = [3, 8, 4, 7, 0]\n",
    "\n",
    "merged_list = merge_sort(list1 + list2)\n",
    "\n",
    "print(\"Merged and sorted list:\", merged_list)\n"
   ]
  },
  {
   "cell_type": "markdown",
   "id": "d162c7e5",
   "metadata": {},
   "source": [
    "#### 7. Write a Python program to find the GCD (Greatest Common Divisor) of two numbers."
   ]
  },
  {
   "cell_type": "code",
   "execution_count": 20,
   "id": "f345837f",
   "metadata": {},
   "outputs": [
    {
     "name": "stdout",
     "output_type": "stream",
     "text": [
      "Enter the first number: 4\n",
      "Enter the second number: 3\n",
      "The GCD of 4 and 3 is 3\n"
     ]
    }
   ],
   "source": [
    "def GCD(n1,n2):\n",
    "    while n2!=0:\n",
    "        n1 = n2\n",
    "        n2 = n1%n2\n",
    "    return n1\n",
    "    \n",
    "\n",
    "# Main Function\n",
    "\n",
    "num1 = int(input(\"Enter the first number: \"))\n",
    "num2 = int(input(\"Enter the second number: \"))\n",
    "\n",
    "gcd = GCD(num1, num2)\n",
    "print(\"The GCD of\", num1, \"and\", num2, \"is\", gcd)\n",
    "    "
   ]
  },
  {
   "cell_type": "markdown",
   "id": "4c6618eb",
   "metadata": {},
   "source": [
    "#### 8. Write a Python program to find the second-largest element in a list."
   ]
  },
  {
   "cell_type": "code",
   "execution_count": 21,
   "id": "3d2ceee3",
   "metadata": {},
   "outputs": [
    {
     "name": "stdout",
     "output_type": "stream",
     "text": [
      "The second-largest element is: 8\n"
     ]
    }
   ],
   "source": [
    "def find_second_largest(list):\n",
    "    if len(list) < 2:\n",
    "        print(\"The list does not have a second-largest element.\")\n",
    "        return None\n",
    "\n",
    "    largest = second_largest = float('-inf')\n",
    "\n",
    "    for num in list:\n",
    "        if num > largest:\n",
    "            second_largest = largest\n",
    "            largest = num\n",
    "        elif num > second_largest and num < largest:\n",
    "            second_largest = num\n",
    "\n",
    "    return second_largest\n",
    "\n",
    "\n",
    "# Test the program\n",
    "numbers = [5, 9, 2, 1, 6, 3, 8, 4, 7, 0]\n",
    "\n",
    "second_largest = find_second_largest(numbers)\n",
    "\n",
    "if second_largest is not None:\n",
    "    print(\"The second-largest element is:\", second_largest)"
   ]
  },
  {
   "cell_type": "markdown",
   "id": "d15a5c8d",
   "metadata": {},
   "source": [
    "#### 9. Write a Python program to find the longest common subsequence between two strings using dynamic programming."
   ]
  },
  {
   "cell_type": "code",
   "execution_count": 24,
   "id": "964d239b",
   "metadata": {},
   "outputs": [
    {
     "name": "stdout",
     "output_type": "stream",
     "text": [
      "Enter the first string: Computer\n",
      "Enter the second string: Programming\n",
      "The longest common subsequence is: or\n"
     ]
    }
   ],
   "source": [
    "def find_lcs(string1, string2):\n",
    "    m = len(string1)\n",
    "    n = len(string2)\n",
    "\n",
    "    # Create a table to store the lengths of LCS for substrings\n",
    "    dp = [[0] * (n + 1) for _ in range(m + 1)]\n",
    "\n",
    "    # Fill the table using dynamic programming\n",
    "    for i in range(1, m + 1):\n",
    "        for j in range(1, n + 1):\n",
    "            if string1[i - 1] == string2[j - 1]:\n",
    "                dp[i][j] = dp[i - 1][j - 1] + 1\n",
    "            else:\n",
    "                dp[i][j] = max(dp[i - 1][j], dp[i][j - 1])\n",
    "\n",
    "    # Retrieve the LCS from the table\n",
    "    lcs = \"\"\n",
    "    i = m\n",
    "    j = n\n",
    "    while i > 0 and j > 0:\n",
    "        if string1[i - 1] == string2[j - 1]:\n",
    "            lcs = string1[i - 1] + lcs\n",
    "            i -= 1\n",
    "            j -= 1\n",
    "        elif dp[i - 1][j] > dp[i][j - 1]:\n",
    "            i -= 1\n",
    "        else:\n",
    "            j -= 1\n",
    "\n",
    "    return lcs\n",
    "\n",
    "\n",
    "# Test the program\n",
    "string1 = input(\"Enter the first string: \")\n",
    "string2 = input(\"Enter the second string: \")\n",
    "\n",
    "lcs = find_lcs(string1, string2)\n",
    "print(\"The longest common subsequence is:\", lcs)\n"
   ]
  },
  {
   "cell_type": "code",
   "execution_count": null,
   "id": "1fe9ed3a",
   "metadata": {},
   "outputs": [],
   "source": []
  }
 ],
 "metadata": {
  "kernelspec": {
   "display_name": "Python 3 (ipykernel)",
   "language": "python",
   "name": "python3"
  },
  "language_info": {
   "codemirror_mode": {
    "name": "ipython",
    "version": 3
   },
   "file_extension": ".py",
   "mimetype": "text/x-python",
   "name": "python",
   "nbconvert_exporter": "python",
   "pygments_lexer": "ipython3",
   "version": "3.11.3"
  }
 },
 "nbformat": 4,
 "nbformat_minor": 5
}
